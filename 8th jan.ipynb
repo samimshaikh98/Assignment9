{
 "cells": [
  {
   "cell_type": "markdown",
   "id": "773ff86f-9b4c-4eee-95de-00c88254b75b",
   "metadata": {},
   "source": [
    "Q1. What is Abstraction in OOps? Explain with an example."
   ]
  },
  {
   "cell_type": "markdown",
   "id": "2fe28dc6-b151-4aad-97a2-69b2d3f617a9",
   "metadata": {},
   "source": [
    "\n",
    "Abstraction in Object-Oriented Programming (OOP) refers to hiding the implementation details of a class and exposing only the essential features to the users of the class."
   ]
  },
  {
   "cell_type": "code",
   "execution_count": 1,
   "id": "d3d230e0-ddf1-483e-9705-cba259021e7c",
   "metadata": {},
   "outputs": [
    {
     "name": "stdout",
     "output_type": "stream",
     "text": [
      "Engine started\n",
      "Accelerating...\n",
      "Brakes applied\n"
     ]
    }
   ],
   "source": [
    "class Car:\n",
    "    def __init__(self, make, model):\n",
    "        self.__make = make\n",
    "        self.__model = model\n",
    "\n",
    "    def start_engine(self):\n",
    "        print(\"Engine started\")\n",
    "\n",
    "    def accelerate(self):\n",
    "        print(\"Accelerating...\")\n",
    "\n",
    "    def brake(self):\n",
    "        print(\"Brakes applied\")\n",
    "\n",
    "# Creating an object of the Car class\n",
    "my_car = Car(\"Toyota\", \"Camry\")\n",
    "\n",
    "# Using the object to call the essential features of the Car class\n",
    "my_car.start_engine()\n",
    "my_car.accelerate()\n",
    "my_car.brake()\n"
   ]
  },
  {
   "cell_type": "markdown",
   "id": "35601cb6-9d52-4332-a21c-46d1eb7c5f7c",
   "metadata": {},
   "source": [
    "In this example, the implementation details of the Car class such as how the engine starts or how the brakes are applied are hidden from the users of the class. The users of the Car class only need to know about the essential features such as starting the engine, accelerating, and braking. This is an example of abstraction in OOP."
   ]
  },
  {
   "cell_type": "markdown",
   "id": "aab7c723-91a6-4ecc-a1cb-cff53c7c4133",
   "metadata": {},
   "source": [
    "Q2. Differentiate between Abstraction and Encapsulation. Explain with an example."
   ]
  },
  {
   "cell_type": "markdown",
   "id": "d7c92439-2ddd-482a-99bd-16f67fded058",
   "metadata": {},
   "source": [
    "Abstraction and encapsulation are two fundamental concepts in Object-Oriented Programming (OOP). While they are related and often used together, they have different meanings:\n",
    "\n",
    "1.Abstraction:\n",
    "Abstraction refers to hiding the implementation details of a class and exposing only the essential features to the users of the class. The goal of abstraction is to simplify the complexity of a system by providing a simple and user-friendly interface for the users of the class.\n",
    "\n",
    "2.Encapsulation:\n",
    "Encapsulation refers to the bundling of data and functions into a single unit (i.e., object). In OOP, encapsulation promotes the principle of data hiding by keeping the internal representation of an object hidden from the outside world."
   ]
  },
  {
   "cell_type": "code",
   "execution_count": 2,
   "id": "e2f1d2b6-5634-4553-8c31-c3aca0daac92",
   "metadata": {},
   "outputs": [
    {
     "name": "stdout",
     "output_type": "stream",
     "text": [
      "Engine started\n",
      "Accelerating...\n",
      "Brakes applied\n"
     ]
    }
   ],
   "source": [
    "class Car:\n",
    "    def __init__(self, make, model):\n",
    "        self.__make = make\n",
    "        self.__model = model\n",
    "\n",
    "    def start_engine(self):\n",
    "        print(\"Engine started\")\n",
    "\n",
    "    def accelerate(self):\n",
    "        print(\"Accelerating...\")\n",
    "\n",
    "    def brake(self):\n",
    "        print(\"Brakes applied\")\n",
    "\n",
    "# Creating an object of the Car class\n",
    "my_car = Car(\"Toyota\", \"Camry\")\n",
    "\n",
    "# Using the object to call the essential features of the Car class\n",
    "my_car.start_engine()\n",
    "my_car.accelerate()\n",
    "my_car.brake()\n"
   ]
  },
  {
   "cell_type": "code",
   "execution_count": null,
   "id": "c981a0da-ad3d-4f86-be3a-f546add2b462",
   "metadata": {},
   "outputs": [],
   "source": []
  },
  {
   "cell_type": "markdown",
   "id": "88408b1e-1b84-4bdb-b662-dd21f14ee30c",
   "metadata": {},
   "source": [
    "Q3. What is abc module in python? Why is it used?"
   ]
  },
  {
   "cell_type": "markdown",
   "id": "50d77f90-d174-4a88-ad8e-a34a2ea2b439",
   "metadata": {},
   "source": [
    "The abc module (abstract base classes) in Python is a module that provides support for defining abstract base classes. An abstract base class is a class that cannot be instantiated and serves as a base class for other classes. It provides a way to define the interface for a class and enforce certain constraints on its subclasses.\n",
    "\n",
    "The abc module is used for creating abstract base classes in Python because it provides a convenient way to enforce the constraints of an abstract base class. It also provides a way to define abstract methods, which are methods that must be implemented by the subclasses of the abstract base class."
   ]
  },
  {
   "cell_type": "markdown",
   "id": "4dd799da-0047-492e-9a16-a7fb044f68f8",
   "metadata": {},
   "source": [
    "Q4. How can we achieve data abstraction?"
   ]
  },
  {
   "cell_type": "markdown",
   "id": "66aa2cee-4332-4170-832b-f47e50d55114",
   "metadata": {},
   "source": [
    "Data abstraction is a technique for hiding the implementation details of data structures and algorithms and exposing only the necessary information to the users of the data structures.\n",
    "\n",
    "In Object-Oriented Programming (OOP), data abstraction can be achieved through the use of classes and objects. The implementation details of the class can be hidden by defining the class with private members (i.e., variables and methods) and exposing only the necessary information to the users of the class through public members (i.e., methods)."
   ]
  },
  {
   "cell_type": "markdown",
   "id": "0b9a1ef6-2977-4777-8670-e4df22fe4a6a",
   "metadata": {},
   "source": [
    "Q5. Can we create an instance of an abstract class? Explain your answer."
   ]
  },
  {
   "cell_type": "markdown",
   "id": "d43abaf8-9128-41ac-bc40-d0cb0f5cf353",
   "metadata": {},
   "source": [
    "No, you cannot create an instance of an abstract class. An abstract class is a class that is meant to serve as a base class for other classes and cannot be instantiated directly. The purpose of an abstract class is to provide a common interface for its subclasses, but it does not provide a complete implementation for the interface.\n",
    "\n",
    "In other words, an abstract class acts as a blueprint for its subclasses, but it cannot be used on its own. In order to use an abstract class, it must be subclassed by another concrete (i.e., non-abstract) class that implements the abstract methods defined in the abstract class."
   ]
  }
 ],
 "metadata": {
  "kernelspec": {
   "display_name": "Python 3 (ipykernel)",
   "language": "python",
   "name": "python3"
  },
  "language_info": {
   "codemirror_mode": {
    "name": "ipython",
    "version": 3
   },
   "file_extension": ".py",
   "mimetype": "text/x-python",
   "name": "python",
   "nbconvert_exporter": "python",
   "pygments_lexer": "ipython3",
   "version": "3.10.8"
  }
 },
 "nbformat": 4,
 "nbformat_minor": 5
}
